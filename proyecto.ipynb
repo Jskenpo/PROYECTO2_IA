{
 "cells": [
  {
   "cell_type": "code",
   "execution_count": 2,
   "metadata": {},
   "outputs": [],
   "source": [
    "import pandas as pd\n",
    "import numpy as np\n",
    "import matplotlib.pyplot as plt\n",
    "import seaborn as sns\n",
    "import re"
   ]
  },
  {
   "cell_type": "markdown",
   "metadata": {},
   "source": [
    "# ANÁLISIS EXPLORATORIO"
   ]
  },
  {
   "cell_type": "code",
   "execution_count": 3,
   "metadata": {},
   "outputs": [],
   "source": [
    "df = pd.read_csv('spam.csv', encoding='ISO-8859-1')\n"
   ]
  },
  {
   "cell_type": "code",
   "execution_count": 4,
   "metadata": {},
   "outputs": [
    {
     "name": "stdout",
     "output_type": "stream",
     "text": [
      "HEAD\n",
      "INFO\n",
      "<class 'pandas.core.frame.DataFrame'>\n",
      "RangeIndex: 5572 entries, 0 to 5571\n",
      "Data columns (total 5 columns):\n",
      " #   Column      Non-Null Count  Dtype \n",
      "---  ------      --------------  ----- \n",
      " 0   v1          5572 non-null   object\n",
      " 1   v2          5572 non-null   object\n",
      " 2   Unnamed: 2  50 non-null     object\n",
      " 3   Unnamed: 3  12 non-null     object\n",
      " 4   Unnamed: 4  6 non-null      object\n",
      "dtypes: object(5)\n",
      "memory usage: 217.8+ KB\n",
      "DESCRIBE\n"
     ]
    },
    {
     "data": {
      "text/html": [
       "<div>\n",
       "<style scoped>\n",
       "    .dataframe tbody tr th:only-of-type {\n",
       "        vertical-align: middle;\n",
       "    }\n",
       "\n",
       "    .dataframe tbody tr th {\n",
       "        vertical-align: top;\n",
       "    }\n",
       "\n",
       "    .dataframe thead th {\n",
       "        text-align: right;\n",
       "    }\n",
       "</style>\n",
       "<table border=\"1\" class=\"dataframe\">\n",
       "  <thead>\n",
       "    <tr style=\"text-align: right;\">\n",
       "      <th></th>\n",
       "      <th>v1</th>\n",
       "      <th>v2</th>\n",
       "      <th>Unnamed: 2</th>\n",
       "      <th>Unnamed: 3</th>\n",
       "      <th>Unnamed: 4</th>\n",
       "    </tr>\n",
       "  </thead>\n",
       "  <tbody>\n",
       "    <tr>\n",
       "      <th>count</th>\n",
       "      <td>5572</td>\n",
       "      <td>5572</td>\n",
       "      <td>50</td>\n",
       "      <td>12</td>\n",
       "      <td>6</td>\n",
       "    </tr>\n",
       "    <tr>\n",
       "      <th>unique</th>\n",
       "      <td>2</td>\n",
       "      <td>5169</td>\n",
       "      <td>43</td>\n",
       "      <td>10</td>\n",
       "      <td>5</td>\n",
       "    </tr>\n",
       "    <tr>\n",
       "      <th>top</th>\n",
       "      <td>ham</td>\n",
       "      <td>Sorry, I'll call later</td>\n",
       "      <td>bt not his girlfrnd... G o o d n i g h t . . .@\"</td>\n",
       "      <td>MK17 92H. 450Ppw 16\"</td>\n",
       "      <td>GNT:-)\"</td>\n",
       "    </tr>\n",
       "    <tr>\n",
       "      <th>freq</th>\n",
       "      <td>4825</td>\n",
       "      <td>30</td>\n",
       "      <td>3</td>\n",
       "      <td>2</td>\n",
       "      <td>2</td>\n",
       "    </tr>\n",
       "  </tbody>\n",
       "</table>\n",
       "</div>"
      ],
      "text/plain": [
       "          v1                      v2  \\\n",
       "count   5572                    5572   \n",
       "unique     2                    5169   \n",
       "top      ham  Sorry, I'll call later   \n",
       "freq    4825                      30   \n",
       "\n",
       "                                               Unnamed: 2  \\\n",
       "count                                                  50   \n",
       "unique                                                 43   \n",
       "top      bt not his girlfrnd... G o o d n i g h t . . .@\"   \n",
       "freq                                                    3   \n",
       "\n",
       "                   Unnamed: 3 Unnamed: 4  \n",
       "count                      12          6  \n",
       "unique                     10          5  \n",
       "top      MK17 92H. 450Ppw 16\"    GNT:-)\"  \n",
       "freq                        2          2  "
      ]
     },
     "execution_count": 4,
     "metadata": {},
     "output_type": "execute_result"
    }
   ],
   "source": [
    "\n",
    "print('HEAD')\n",
    "df.head()\n",
    "print('INFO')\n",
    "df.info()\n",
    "print('DESCRIBE')\n",
    "df.describe()"
   ]
  },
  {
   "cell_type": "code",
   "execution_count": 5,
   "metadata": {},
   "outputs": [
    {
     "data": {
      "text/plain": [
       "v1\n",
       "ham     4825\n",
       "spam     747\n",
       "Name: count, dtype: int64"
      ]
     },
     "execution_count": 5,
     "metadata": {},
     "output_type": "execute_result"
    }
   ],
   "source": [
    "df['v1'].value_counts()"
   ]
  },
  {
   "cell_type": "code",
   "execution_count": 6,
   "metadata": {},
   "outputs": [
    {
     "data": {
      "text/plain": [
       "v1               0\n",
       "v2               0\n",
       "Unnamed: 2    5522\n",
       "Unnamed: 3    5560\n",
       "Unnamed: 4    5566\n",
       "dtype: int64"
      ]
     },
     "execution_count": 6,
     "metadata": {},
     "output_type": "execute_result"
    }
   ],
   "source": [
    "df.isnull().sum()"
   ]
  },
  {
   "cell_type": "code",
   "execution_count": 7,
   "metadata": {},
   "outputs": [
    {
     "data": {
      "text/plain": [
       "count    5572.000000\n",
       "mean       80.118808\n",
       "std        59.690841\n",
       "min         2.000000\n",
       "25%        36.000000\n",
       "50%        61.000000\n",
       "75%       121.000000\n",
       "max       910.000000\n",
       "Name: v2, dtype: float64"
      ]
     },
     "execution_count": 7,
     "metadata": {},
     "output_type": "execute_result"
    }
   ],
   "source": [
    "df['v2'].str.len().describe()"
   ]
  },
  {
   "cell_type": "code",
   "execution_count": 8,
   "metadata": {},
   "outputs": [
    {
     "name": "stdout",
     "output_type": "stream",
     "text": [
      "Palabras más comunes en mensajes ham:\n",
      "[('to', 1530), ('you', 1458), ('I', 1436), ('the', 1019), ('a', 969), ('and', 738), ('i', 736), ('in', 734), ('u', 645), ('is', 638)]\n",
      "\n",
      "Palabras más comunes en mensajes spam:\n",
      "[('to', 604), ('a', 358), ('your', 187), ('call', 185), ('or', 185), ('the', 178), ('2', 169), ('for', 169), ('you', 164), ('is', 143)]\n"
     ]
    }
   ],
   "source": [
    "ham_words = ' '.join(df[df['v1'] == 'ham']['v2']).split()\n",
    "spam_words = ' '.join(df[df['v1'] == 'spam']['v2']).split()\n",
    "\n",
    "from collections import Counter\n",
    "\n",
    "ham_counter = Counter(ham_words)\n",
    "spam_counter = Counter(spam_words)\n",
    "\n",
    "print(\"Palabras más comunes en mensajes ham:\")\n",
    "print(ham_counter.most_common(10))\n",
    "\n",
    "print(\"\\nPalabras más comunes en mensajes spam:\")\n",
    "print(spam_counter.most_common(10))"
   ]
  },
  {
   "cell_type": "code",
   "execution_count": 9,
   "metadata": {},
   "outputs": [
    {
     "data": {
      "image/png": "[encoded data removed]",
      "text/plain": [
       "<Figure size 640x480 with 1 Axes>"
      ]
     },
     "metadata": {},
     "output_type": "display_data"
    }
   ],
   "source": [
    "\n",
    "df['v2'].str.len().hist(bins=50)\n",
    "plt.title('Distribución de longitud de mensajes')\n",
    "y_label = plt.ylabel('Número de mensajes')\n",
    "x_label = plt.xlabel('Longitud de mensajes')\n",
    "plt.show()"
   ]
  },
  {
   "cell_type": "code",
   "execution_count": 10,
   "metadata": {},
   "outputs": [
    {
     "data": {
      "image/png": "[encoded data removed]",
      "text/plain": [
       "<Figure size 800x600 with 1 Axes>"
      ]
     },
     "metadata": {},
     "output_type": "display_data"
    }
   ],
   "source": [
    "plt.figure(figsize=(8, 6))\n",
    "plt.violinplot(dataset=[df[df['v1'] == 'ham']['v2'].str.len(), df[df['v1'] == 'spam']['v2'].str.len()],\n",
    "               showmeans=True)\n",
    "plt.xticks([1, 2], ['Ham', 'Spam'])\n",
    "plt.title('Distribución de longitud de mensajes por clase')\n",
    "plt.ylabel('Longitud del mensaje')\n",
    "plt.show()"
   ]
  },
  {
   "cell_type": "code",
   "execution_count": 11,
   "metadata": {},
   "outputs": [
    {
     "data": {
      "image/png": "[encoded data removed]",
      "text/plain": [
       "<Figure size 800x600 with 1 Axes>"
      ]
     },
     "metadata": {},
     "output_type": "display_data"
    }
   ],
   "source": [
    "# distribuicion de palabras de ham y spam \n",
    "plt.figure(figsize=(8, 6))\n",
    "plt.violinplot(dataset=[df[df['v1'] == 'ham']['v2'].str.split().apply(len), df[df['v1'] == 'spam']['v2'].str.split().apply(len)],\n",
    "               showmeans=True)\n",
    "plt.xticks([1, 2], ['Ham', 'Spam'])\n",
    "plt.title('Distribución de cantidad de palabras por mensaje y clase')\n",
    "plt.ylabel('Cantidad de palabras')\n",
    "\n",
    "plt.show()\n"
   ]
  },
  {
   "cell_type": "code",
   "execution_count": 12,
   "metadata": {},
   "outputs": [
    {
     "data": {
      "image/png": "[encoded data removed]",
      "text/plain": [
       "<Figure size 800x600 with 1 Axes>"
      ]
     },
     "metadata": {},
     "output_type": "display_data"
    }
   ],
   "source": [
    "#cantidad de ham y spam \n",
    "\n",
    "plt.figure(figsize=(8, 6))\n",
    "\n",
    "df['v1'].value_counts().plot(kind='bar', color=['skyblue', 'salmon'])\n",
    "plt.title('Distribución de mensajes ham y spam')\n",
    "plt.ylabel('Cantidad de mensajes')\n",
    "plt.xticks([0, 1], ['Ham', 'Spam'], rotation=0)\n",
    "\n",
    "plt.show()\n"
   ]
  },
  {
   "cell_type": "markdown",
   "metadata": {},
   "source": [
    "# LIMPIEZA DE DATOS "
   ]
  },
  {
   "cell_type": "code",
   "execution_count": 13,
   "metadata": {},
   "outputs": [
    {
     "name": "stderr",
     "output_type": "stream",
     "text": [
      "[nltk_data] Downloading package punkt to\n",
      "[nltk_data]     C:\\Users\\jsken\\AppData\\Roaming\\nltk_data...\n",
      "[nltk_data]   Package punkt is already up-to-date!\n"
     ]
    }
   ],
   "source": [
    "import nltk\n",
    "nltk.download('punkt')\n",
    "from nltk.corpus import stopwords\n",
    "from nltk.stem import PorterStemmer, WordNetLemmatizer\n",
    "\n",
    "stop_words = set(stopwords.words('english'))\n",
    "stemmer = PorterStemmer()\n",
    "lemmatizer = WordNetLemmatizer()"
   ]
  },
  {
   "cell_type": "code",
   "execution_count": 15,
   "metadata": {},
   "outputs": [],
   "source": [
    "import re\n",
    "\n",
    "def clean_text(text):\n",
    "    # Remover caracteres especiales y números\n",
    "    text = re.sub(r'[^a-zA-Z\\s]', '', text)\n",
    "    \n",
    "    # Convertir a minúsculas\n",
    "    text = text.lower()\n",
    "    \n",
    "    # Tokenizar el texto\n",
    "    tokens = nltk.word_tokenize(text)\n",
    "    \n",
    "    # Remover stop words\n",
    "    tokens = [word for word in tokens if word not in stop_words]\n",
    "    \n",
    "    # Lematización\n",
    "    tokens = [lemmatizer.lemmatize(word) for word in tokens]\n",
    "    \n",
    "    # Stemming\n",
    "    tokens = [stemmer.stem(word) for word in tokens]\n",
    "    \n",
    "    \n",
    "    return tokens"
   ]
  },
  {
   "cell_type": "code",
   "execution_count": 16,
   "metadata": {},
   "outputs": [
    {
     "data": {
      "text/html": [
       "<div>\n",
       "<style scoped>\n",
       "    .dataframe tbody tr th:only-of-type {\n",
       "        vertical-align: middle;\n",
       "    }\n",
       "\n",
       "    .dataframe tbody tr th {\n",
       "        vertical-align: top;\n",
       "    }\n",
       "\n",
       "    .dataframe thead th {\n",
       "        text-align: right;\n",
       "    }\n",
       "</style>\n",
       "<table border=\"1\" class=\"dataframe\">\n",
       "  <thead>\n",
       "    <tr style=\"text-align: right;\">\n",
       "      <th></th>\n",
       "      <th>label</th>\n",
       "      <th>message</th>\n",
       "    </tr>\n",
       "  </thead>\n",
       "  <tbody>\n",
       "    <tr>\n",
       "      <th>0</th>\n",
       "      <td>ham</td>\n",
       "      <td>[go, jurong, point, crazi, avail, bugi, n, gre...</td>\n",
       "    </tr>\n",
       "    <tr>\n",
       "      <th>1</th>\n",
       "      <td>ham</td>\n",
       "      <td>[ok, lar, joke, wif, u, oni]</td>\n",
       "    </tr>\n",
       "    <tr>\n",
       "      <th>2</th>\n",
       "      <td>spam</td>\n",
       "      <td>[free, entri, wkli, comp, win, fa, cup, final,...</td>\n",
       "    </tr>\n",
       "    <tr>\n",
       "      <th>3</th>\n",
       "      <td>ham</td>\n",
       "      <td>[u, dun, say, earli, hor, u, c, alreadi, say]</td>\n",
       "    </tr>\n",
       "    <tr>\n",
       "      <th>4</th>\n",
       "      <td>ham</td>\n",
       "      <td>[nah, dont, think, go, usf, life, around, though]</td>\n",
       "    </tr>\n",
       "  </tbody>\n",
       "</table>\n",
       "</div>"
      ],
      "text/plain": [
       "  label                                            message\n",
       "0   ham  [go, jurong, point, crazi, avail, bugi, n, gre...\n",
       "1   ham                       [ok, lar, joke, wif, u, oni]\n",
       "2  spam  [free, entri, wkli, comp, win, fa, cup, final,...\n",
       "3   ham      [u, dun, say, earli, hor, u, c, alreadi, say]\n",
       "4   ham  [nah, dont, think, go, usf, life, around, though]"
      ]
     },
     "execution_count": 16,
     "metadata": {},
     "output_type": "execute_result"
    }
   ],
   "source": [
    "df['v2_cleaned'] = df['v2'].apply(clean_text)\n",
    "\n",
    "#crear nuevo dataframe con las palabras limpias y su tipo de mensaje\n",
    "df_cleaned = df[['v1', 'v2_cleaned']].copy()\n",
    "\n",
    "#cambia el nombre de las columnas  para que sea más entendible\n",
    "df_cleaned.columns = ['label', 'message']\n",
    "\n",
    "df_cleaned.head()"
   ]
  },
  {
   "cell_type": "markdown",
   "metadata": {},
   "source": [
    "# MODELO"
   ]
  },
  {
   "cell_type": "markdown",
   "metadata": {},
   "source": [
    "## probabilidad de que una palabra sea SPAM"
   ]
  },
  {
   "cell_type": "code",
   "execution_count": 17,
   "metadata": {},
   "outputs": [],
   "source": [
    "# Contar el número total de mensajes spam y ham\n",
    "spam_count = df_cleaned[df_cleaned['label'] == 'spam'].shape[0]\n",
    "ham_count = df_cleaned[df_cleaned['label'] == 'ham'].shape[0]\n",
    "total_count = spam_count + ham_count\n",
    "\n",
    "# Calcular P(S) y P(H)\n",
    "P_spam = spam_count / total_count\n",
    "P_ham = ham_count / total_count\n",
    "\n",
    "# Función para calcular P(W|S) y P(W|H)\n",
    "def calc_word_prob(word, spam_messages, ham_messages):\n",
    "    spam_word_count = spam_messages[spam_messages['message'].apply(lambda x: word in x)].shape[0]\n",
    "    ham_word_count = ham_messages[ham_messages['message'].apply(lambda x: word in x)].shape[0]\n",
    "    \n",
    "    P_word_spam = (spam_word_count + 1) / (spam_count + 2)  # Suavizado de Laplace\n",
    "    P_word_ham = (ham_word_count + 1) / (ham_count + 2)  # Suavizado de Laplace\n",
    "    \n",
    "    return P_word_spam, P_word_ham"
   ]
  },
  {
   "cell_type": "code",
   "execution_count": 18,
   "metadata": {},
   "outputs": [],
   "source": [
    "# Función para calcular P(W|S) y P(W|H)\n",
    "def calc_spam_probability(word):\n",
    "    P_word_spam, P_word_ham = calc_word_prob(word, df_cleaned[df_cleaned['label'] == 'spam'], df_cleaned[df_cleaned['label'] == 'ham'])\n",
    "    \n",
    "    P_spam_given_word = (P_word_spam * P_spam) / (P_word_spam * P_spam + P_word_ham * P_ham)\n",
    "    \n",
    "    return P_spam_given_word"
   ]
  },
  {
   "cell_type": "code",
   "execution_count": 26,
   "metadata": {},
   "outputs": [
    {
     "name": "stdout",
     "output_type": "stream",
     "text": [
      "La probabilidad de que el mensaje sea spam dado que contiene la palabra \"free\" es: 0.7419\n"
     ]
    }
   ],
   "source": [
    "#calcular la probabilidad de que una palabra sea spam \n",
    "word = 'free'\n",
    "\n",
    "P_spam_given_word = calc_spam_probability(word)\n",
    "\n",
    "print(f'La probabilidad de que el mensaje sea spam dado que contiene la palabra \"{word}\" es: {P_spam_given_word:.4f}')\n"
   ]
  },
  {
   "cell_type": "markdown",
   "metadata": {},
   "source": [
    "## probabilidad de que un texto sea SPAM dado que contiene un conjunto de palabras utilizando la fórmula proporcionada"
   ]
  },
  {
   "cell_type": "code",
   "execution_count": 20,
   "metadata": {},
   "outputs": [],
   "source": [
    "from functools import reduce\n",
    "\n",
    "def calc_spam_probability_text(text):\n",
    "    words = clean_text(text)\n",
    "    P_spam_given_words = [calc_spam_probability(word) for word in words]\n",
    "    \n",
    "    P_spam_given_text = reduce(lambda x, y: x * y, P_spam_given_words) / (reduce(lambda x, y: x * y, P_spam_given_words) + reduce(lambda x, y: x * y, [1 - prob for prob in P_spam_given_words]))\n",
    "    \n",
    "    return P_spam_given_text\n",
    "\n"
   ]
  },
  {
   "cell_type": "code",
   "execution_count": 25,
   "metadata": {},
   "outputs": [
    {
     "name": "stdout",
     "output_type": "stream",
     "text": [
      "La probabilidad de que el mensaje sea spam dado el texto \"claim money\" es: 0.8939\n"
     ]
    }
   ],
   "source": [
    "\n",
    "text = 'claim money'\n",
    "P_spam_given_text = calc_spam_probability_text(text)\n",
    "\n",
    "print(f'La probabilidad de que el mensaje sea spam dado el texto \"{text}\" es: {P_spam_given_text:.4f}')"
   ]
  },
  {
   "cell_type": "markdown",
   "metadata": {},
   "source": [
    "# PRUEBAS DE RENDIMIENTO"
   ]
  },
  {
   "cell_type": "code",
   "execution_count": 27,
   "metadata": {},
   "outputs": [],
   "source": [
    "\n",
    "from sklearn.model_selection import train_test_split\n",
    "from sklearn.metrics import confusion_matrix, classification_report\n",
    "\n",
    "X = df['v2']\n",
    "y = df['v1']\n",
    "\n",
    "X_train, X_test, y_train, y_test = train_test_split(X, y, test_size=0.2, random_state=42)\n",
    "\n",
    "df_train = pd.DataFrame({'label': y_train, 'message': X_train})\n",
    "df_test = pd.DataFrame({'label': y_test, 'message': X_test})\n",
    "\n",
    "df_train['message'] = df_train['message'].apply(clean_text)\n",
    "df_test['message'] = df_test['message'].apply(clean_text)\n"
   ]
  },
  {
   "cell_type": "code",
   "execution_count": 28,
   "metadata": {},
   "outputs": [
    {
     "data": {
      "text/html": [
       "<div>\n",
       "<style scoped>\n",
       "    .dataframe tbody tr th:only-of-type {\n",
       "        vertical-align: middle;\n",
       "    }\n",
       "\n",
       "    .dataframe tbody tr th {\n",
       "        vertical-align: top;\n",
       "    }\n",
       "\n",
       "    .dataframe thead th {\n",
       "        text-align: right;\n",
       "    }\n",
       "</style>\n",
       "<table border=\"1\" class=\"dataframe\">\n",
       "  <thead>\n",
       "    <tr style=\"text-align: right;\">\n",
       "      <th></th>\n",
       "      <th>label</th>\n",
       "      <th>message</th>\n",
       "    </tr>\n",
       "  </thead>\n",
       "  <tbody>\n",
       "    <tr>\n",
       "      <th>3245</th>\n",
       "      <td>ham</td>\n",
       "      <td>[funni, fact, nobodi, teach, volcano, erupt, t...</td>\n",
       "    </tr>\n",
       "    <tr>\n",
       "      <th>944</th>\n",
       "      <td>ham</td>\n",
       "      <td>[sent, score, sopha, secondari, applic, school...</td>\n",
       "    </tr>\n",
       "    <tr>\n",
       "      <th>1044</th>\n",
       "      <td>spam</td>\n",
       "      <td>[know, someon, know, fanci, call, find, pobox,...</td>\n",
       "    </tr>\n",
       "    <tr>\n",
       "      <th>2484</th>\n",
       "      <td>ham</td>\n",
       "      <td>[promis, get, soon, youll, text, morn, let, kn...</td>\n",
       "    </tr>\n",
       "    <tr>\n",
       "      <th>812</th>\n",
       "      <td>spam</td>\n",
       "      <td>[congratul, ur, award, either, cd, gift, vouch...</td>\n",
       "    </tr>\n",
       "    <tr>\n",
       "      <th>...</th>\n",
       "      <td>...</td>\n",
       "      <td>...</td>\n",
       "    </tr>\n",
       "    <tr>\n",
       "      <th>4264</th>\n",
       "      <td>ham</td>\n",
       "      <td>[ltdecimalgt, common, car, better, buy, china,...</td>\n",
       "    </tr>\n",
       "    <tr>\n",
       "      <th>2439</th>\n",
       "      <td>ham</td>\n",
       "      <td>[rightio, well, arent, bright, earli, morn]</td>\n",
       "    </tr>\n",
       "    <tr>\n",
       "      <th>5556</th>\n",
       "      <td>ham</td>\n",
       "      <td>[ye, that, u, text, pshewmiss, much]</td>\n",
       "    </tr>\n",
       "    <tr>\n",
       "      <th>4205</th>\n",
       "      <td>ham</td>\n",
       "      <td>[get, door, im]</td>\n",
       "    </tr>\n",
       "    <tr>\n",
       "      <th>4293</th>\n",
       "      <td>spam</td>\n",
       "      <td>[kit, strip, bill, p, netcollex, ltd, po, box,...</td>\n",
       "    </tr>\n",
       "  </tbody>\n",
       "</table>\n",
       "<p>1115 rows × 2 columns</p>\n",
       "</div>"
      ],
      "text/plain": [
       "     label                                            message\n",
       "3245   ham  [funni, fact, nobodi, teach, volcano, erupt, t...\n",
       "944    ham  [sent, score, sopha, secondari, applic, school...\n",
       "1044  spam  [know, someon, know, fanci, call, find, pobox,...\n",
       "2484   ham  [promis, get, soon, youll, text, morn, let, kn...\n",
       "812   spam  [congratul, ur, award, either, cd, gift, vouch...\n",
       "...    ...                                                ...\n",
       "4264   ham  [ltdecimalgt, common, car, better, buy, china,...\n",
       "2439   ham        [rightio, well, arent, bright, earli, morn]\n",
       "5556   ham               [ye, that, u, text, pshewmiss, much]\n",
       "4205   ham                                    [get, door, im]\n",
       "4293  spam  [kit, strip, bill, p, netcollex, ltd, po, box,...\n",
       "\n",
       "[1115 rows x 2 columns]"
      ]
     },
     "execution_count": 28,
     "metadata": {},
     "output_type": "execute_result"
    }
   ],
   "source": [
    "df_test"
   ]
  },
  {
   "cell_type": "code",
   "execution_count": 29,
   "metadata": {},
   "outputs": [],
   "source": [
    "def calc_spam_probability_text_predict(text):\n",
    "    words = clean_text(text)\n",
    "    \n",
    "    if not words:\n",
    "        # Manejar el caso de una lista vacía\n",
    "        return 0.5  # O cualquier otra probabilidad predeterminada\n",
    "    \n",
    "    P_spam_given_words = [calc_spam_probability_predict(word) for word in words]\n",
    "    \n",
    "    P_spam_given_text = reduce(lambda x, y: x * y, P_spam_given_words) / (\n",
    "        reduce(lambda x, y: x * y, P_spam_given_words) +\n",
    "        reduce(lambda x, y: x * y, [1 - prob for prob in P_spam_given_words])\n",
    "    )\n",
    "    \n",
    "    return P_spam_given_text\n",
    "\n",
    "def calc_spam_probability_predict(word):\n",
    "    P_word_spam, P_word_ham = calc_word_prob(word, df_test[df_test['label'] == 'spam'], df_test[df_test['label'] == 'ham'])\n",
    "    \n",
    "    P_spam_given_word = (P_word_spam * P_spam) / (P_word_spam * P_spam + P_word_ham * P_ham)\n",
    "    \n",
    "    return P_spam_given_word"
   ]
  },
  {
   "cell_type": "code",
   "execution_count": 30,
   "metadata": {},
   "outputs": [],
   "source": [
    "def predict_spam_probability_text(text):\n",
    "    P_spam_given_text = calc_spam_probability_text_predict(text)\n",
    "    \n",
    "    return 'spam' if P_spam_given_text > 0.5 else 'ham'\n",
    "\n",
    "df_test['predicted'] = df_test['message'].apply(lambda x: predict_spam_probability_text(' '.join(x)))\n"
   ]
  },
  {
   "cell_type": "code",
   "execution_count": 31,
   "metadata": {},
   "outputs": [
    {
     "data": {
      "text/html": [
       "<div>\n",
       "<style scoped>\n",
       "    .dataframe tbody tr th:only-of-type {\n",
       "        vertical-align: middle;\n",
       "    }\n",
       "\n",
       "    .dataframe tbody tr th {\n",
       "        vertical-align: top;\n",
       "    }\n",
       "\n",
       "    .dataframe thead th {\n",
       "        text-align: right;\n",
       "    }\n",
       "</style>\n",
       "<table border=\"1\" class=\"dataframe\">\n",
       "  <thead>\n",
       "    <tr style=\"text-align: right;\">\n",
       "      <th></th>\n",
       "      <th>label</th>\n",
       "      <th>message</th>\n",
       "      <th>predicted</th>\n",
       "    </tr>\n",
       "  </thead>\n",
       "  <tbody>\n",
       "    <tr>\n",
       "      <th>3245</th>\n",
       "      <td>ham</td>\n",
       "      <td>[funni, fact, nobodi, teach, volcano, erupt, t...</td>\n",
       "      <td>ham</td>\n",
       "    </tr>\n",
       "    <tr>\n",
       "      <th>944</th>\n",
       "      <td>ham</td>\n",
       "      <td>[sent, score, sopha, secondari, applic, school...</td>\n",
       "      <td>ham</td>\n",
       "    </tr>\n",
       "    <tr>\n",
       "      <th>1044</th>\n",
       "      <td>spam</td>\n",
       "      <td>[know, someon, know, fanci, call, find, pobox,...</td>\n",
       "      <td>ham</td>\n",
       "    </tr>\n",
       "    <tr>\n",
       "      <th>2484</th>\n",
       "      <td>ham</td>\n",
       "      <td>[promis, get, soon, youll, text, morn, let, kn...</td>\n",
       "      <td>ham</td>\n",
       "    </tr>\n",
       "    <tr>\n",
       "      <th>812</th>\n",
       "      <td>spam</td>\n",
       "      <td>[congratul, ur, award, either, cd, gift, vouch...</td>\n",
       "      <td>spam</td>\n",
       "    </tr>\n",
       "    <tr>\n",
       "      <th>...</th>\n",
       "      <td>...</td>\n",
       "      <td>...</td>\n",
       "      <td>...</td>\n",
       "    </tr>\n",
       "    <tr>\n",
       "      <th>4264</th>\n",
       "      <td>ham</td>\n",
       "      <td>[ltdecimalgt, common, car, better, buy, china,...</td>\n",
       "      <td>ham</td>\n",
       "    </tr>\n",
       "    <tr>\n",
       "      <th>2439</th>\n",
       "      <td>ham</td>\n",
       "      <td>[rightio, well, arent, bright, earli, morn]</td>\n",
       "      <td>ham</td>\n",
       "    </tr>\n",
       "    <tr>\n",
       "      <th>5556</th>\n",
       "      <td>ham</td>\n",
       "      <td>[ye, that, u, text, pshewmiss, much]</td>\n",
       "      <td>ham</td>\n",
       "    </tr>\n",
       "    <tr>\n",
       "      <th>4205</th>\n",
       "      <td>ham</td>\n",
       "      <td>[get, door, im]</td>\n",
       "      <td>ham</td>\n",
       "    </tr>\n",
       "    <tr>\n",
       "      <th>4293</th>\n",
       "      <td>spam</td>\n",
       "      <td>[kit, strip, bill, p, netcollex, ltd, po, box,...</td>\n",
       "      <td>spam</td>\n",
       "    </tr>\n",
       "  </tbody>\n",
       "</table>\n",
       "<p>1115 rows × 3 columns</p>\n",
       "</div>"
      ],
      "text/plain": [
       "     label                                            message predicted\n",
       "3245   ham  [funni, fact, nobodi, teach, volcano, erupt, t...       ham\n",
       "944    ham  [sent, score, sopha, secondari, applic, school...       ham\n",
       "1044  spam  [know, someon, know, fanci, call, find, pobox,...       ham\n",
       "2484   ham  [promis, get, soon, youll, text, morn, let, kn...       ham\n",
       "812   spam  [congratul, ur, award, either, cd, gift, vouch...      spam\n",
       "...    ...                                                ...       ...\n",
       "4264   ham  [ltdecimalgt, common, car, better, buy, china,...       ham\n",
       "2439   ham        [rightio, well, arent, bright, earli, morn]       ham\n",
       "5556   ham               [ye, that, u, text, pshewmiss, much]       ham\n",
       "4205   ham                                    [get, door, im]       ham\n",
       "4293  spam  [kit, strip, bill, p, netcollex, ltd, po, box,...      spam\n",
       "\n",
       "[1115 rows x 3 columns]"
      ]
     },
     "execution_count": 31,
     "metadata": {},
     "output_type": "execute_result"
    }
   ],
   "source": [
    "df_test"
   ]
  },
  {
   "cell_type": "code",
   "execution_count": 32,
   "metadata": {},
   "outputs": [
    {
     "data": {
      "image/png": "[encoded data removed]",
      "text/plain": [
       "<Figure size 800x600 with 2 Axes>"
      ]
     },
     "metadata": {},
     "output_type": "display_data"
    }
   ],
   "source": [
    "conf_matrix = confusion_matrix(df_test['label'], df_test['predicted'])\n",
    "\n",
    "plt.figure(figsize=(8, 6))\n",
    "sns.heatmap(conf_matrix, annot=True, fmt='d', cmap='Blues', xticklabels=['ham', 'spam'], yticklabels=['ham', 'spam'])\n",
    "plt.xlabel('Predicted labels')\n",
    "plt.ylabel('True labels')\n",
    "plt.title('Confusion Matrix')\n",
    "plt.show()\n"
   ]
  },
  {
   "cell_type": "code",
   "execution_count": 33,
   "metadata": {},
   "outputs": [
    {
     "name": "stdout",
     "output_type": "stream",
     "text": [
      "              precision    recall  f1-score   support\n",
      "\n",
      "         ham       0.98      1.00      0.99       965\n",
      "        spam       0.99      0.88      0.93       150\n",
      "\n",
      "    accuracy                           0.98      1115\n",
      "   macro avg       0.98      0.94      0.96      1115\n",
      "weighted avg       0.98      0.98      0.98      1115\n",
      "\n"
     ]
    }
   ],
   "source": [
    "#nivel de precisión, recall y f1-score\n",
    "\n",
    "print(classification_report(df_test['label'], df_test['predicted']))\n"
   ]
  }
 ],
 "metadata": {
  "kernelspec": {
   "display_name": "Python 3",
   "language": "python",
   "name": "python3"
  },
  "language_info": {
   "codemirror_mode": {
    "name": "ipython",
    "version": 3
   },
   "file_extension": ".py",
   "mimetype": "text/x-python",
   "name": "python",
   "nbconvert_exporter": "python",
   "pygments_lexer": "ipython3",
   "version": "3.11.7"
  }
 },
 "nbformat": 4,
 "nbformat_minor": 2
}
